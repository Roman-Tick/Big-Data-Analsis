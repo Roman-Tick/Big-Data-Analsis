{
 "cells": [
  {
   "cell_type": "code",
   "execution_count": 1,
   "metadata": {},
   "outputs": [],
   "source": [
    "pip3 install torch torchvision torchaudio --extra-index-url https://download.pytorch.org/whl/cu113"
   ]
  },
  {
   "cell_type": "code",
   "execution_count": 2,
   "metadata": {},
   "outputs": [
    {
     "name": "stdout",
     "output_type": "stream",
     "text": [
      "Collecting happytransformer\n",
      "  Downloading happytransformer-2.4.1-py3-none-any.whl (45 kB)\n",
      "Collecting transformers>=4.4.0\n",
      "  Downloading transformers-4.18.0-py3-none-any.whl (4.0 MB)\n",
      "Requirement already satisfied: tqdm>=4.43 in c:\\users\\ben\\anaconda3\\lib\\site-packages (from happytransformer) (4.50.2)\n",
      "Collecting protobuf\n",
      "  Downloading protobuf-3.20.1-cp38-cp38-win_amd64.whl (904 kB)\n",
      "Collecting datasets>=1.6.0\n",
      "  Downloading datasets-2.1.0-py3-none-any.whl (325 kB)\n",
      "Collecting sentencepiece\n",
      "  Downloading sentencepiece-0.1.96-cp38-cp38-win_amd64.whl (1.1 MB)\n",
      "Collecting torch>=1.0\n",
      "  Downloading torch-1.11.0-cp38-cp38-win_amd64.whl (158.0 MB)\n",
      "Requirement already satisfied: packaging>=20.0 in c:\\users\\ben\\anaconda3\\lib\\site-packages (from transformers>=4.4.0->happytransformer) (20.4)\n",
      "Requirement already satisfied: regex!=2019.12.17 in c:\\users\\ben\\anaconda3\\lib\\site-packages (from transformers>=4.4.0->happytransformer) (2020.10.15)\n",
      "Collecting huggingface-hub<1.0,>=0.1.0\n",
      "  Downloading huggingface_hub-0.5.1-py3-none-any.whl (77 kB)\n",
      "Requirement already satisfied: filelock in c:\\users\\ben\\anaconda3\\lib\\site-packages (from transformers>=4.4.0->happytransformer) (3.0.12)\n",
      "Requirement already satisfied: requests in c:\\users\\ben\\anaconda3\\lib\\site-packages (from transformers>=4.4.0->happytransformer) (2.24.0)\n",
      "Requirement already satisfied: pyyaml>=5.1 in c:\\users\\ben\\anaconda3\\lib\\site-packages (from transformers>=4.4.0->happytransformer) (5.3.1)\n",
      "Collecting sacremoses\n",
      "  Downloading sacremoses-0.0.53.tar.gz (880 kB)\n",
      "Collecting tokenizers!=0.11.3,<0.13,>=0.11.1\n",
      "  Downloading tokenizers-0.12.1-cp38-cp38-win_amd64.whl (3.3 MB)\n",
      "Requirement already satisfied: numpy>=1.17 in c:\\users\\ben\\anaconda3\\lib\\site-packages (from transformers>=4.4.0->happytransformer) (1.19.2)\n",
      "Collecting responses<0.19\n",
      "  Downloading responses-0.18.0-py3-none-any.whl (38 kB)\n",
      "Collecting xxhash\n",
      "  Downloading xxhash-3.0.0-cp38-cp38-win_amd64.whl (29 kB)\n",
      "Requirement already satisfied: pandas in c:\\users\\ben\\anaconda3\\lib\\site-packages (from datasets>=1.6.0->happytransformer) (1.1.3)\n",
      "Collecting aiohttp\n",
      "  Downloading aiohttp-3.8.1-cp38-cp38-win_amd64.whl (555 kB)\n",
      "Collecting dill\n",
      "  Downloading dill-0.3.4-py2.py3-none-any.whl (86 kB)\n",
      "Collecting multiprocess\n",
      "  Downloading multiprocess-0.70.12.2-py38-none-any.whl (128 kB)\n",
      "Collecting fsspec[http]>=2021.05.0\n",
      "  Downloading fsspec-2022.3.0-py3-none-any.whl (136 kB)\n",
      "Collecting pyarrow>=5.0.0\n",
      "  Downloading pyarrow-8.0.0-cp38-cp38-win_amd64.whl (17.9 MB)\n",
      "Requirement already satisfied: typing-extensions in c:\\users\\ben\\anaconda3\\lib\\site-packages (from torch>=1.0->happytransformer) (3.7.4.3)\n",
      "Requirement already satisfied: pyparsing>=2.0.2 in c:\\users\\ben\\anaconda3\\lib\\site-packages (from packaging>=20.0->transformers>=4.4.0->happytransformer) (2.4.7)\n",
      "Requirement already satisfied: six in c:\\users\\ben\\anaconda3\\lib\\site-packages (from packaging>=20.0->transformers>=4.4.0->happytransformer) (1.15.0)\n",
      "Requirement already satisfied: chardet<4,>=3.0.2 in c:\\users\\ben\\anaconda3\\lib\\site-packages (from requests->transformers>=4.4.0->happytransformer) (3.0.4)\n",
      "Requirement already satisfied: urllib3!=1.25.0,!=1.25.1,<1.26,>=1.21.1 in c:\\users\\ben\\anaconda3\\lib\\site-packages (from requests->transformers>=4.4.0->happytransformer) (1.25.11)\n",
      "Requirement already satisfied: certifi>=2017.4.17 in c:\\users\\ben\\anaconda3\\lib\\site-packages (from requests->transformers>=4.4.0->happytransformer) (2020.6.20)\n",
      "Requirement already satisfied: idna<3,>=2.5 in c:\\users\\ben\\anaconda3\\lib\\site-packages (from requests->transformers>=4.4.0->happytransformer) (2.10)\n",
      "Requirement already satisfied: click in c:\\users\\ben\\anaconda3\\lib\\site-packages (from sacremoses->transformers>=4.4.0->happytransformer) (7.1.2)\n",
      "Requirement already satisfied: joblib in c:\\users\\ben\\anaconda3\\lib\\site-packages (from sacremoses->transformers>=4.4.0->happytransformer) (0.17.0)\n",
      "Requirement already satisfied: pytz>=2017.2 in c:\\users\\ben\\anaconda3\\lib\\site-packages (from pandas->datasets>=1.6.0->happytransformer) (2020.1)\n",
      "Requirement already satisfied: python-dateutil>=2.7.3 in c:\\users\\ben\\anaconda3\\lib\\site-packages (from pandas->datasets>=1.6.0->happytransformer) (2.8.1)\n",
      "Collecting charset-normalizer<3.0,>=2.0\n",
      "  Downloading charset_normalizer-2.0.12-py3-none-any.whl (39 kB)\n",
      "Collecting yarl<2.0,>=1.0\n",
      "  Downloading yarl-1.7.2-cp38-cp38-win_amd64.whl (122 kB)\n",
      "Collecting frozenlist>=1.1.1\n",
      "  Downloading frozenlist-1.3.0-cp38-cp38-win_amd64.whl (33 kB)\n",
      "Collecting async-timeout<5.0,>=4.0.0a3\n",
      "  Downloading async_timeout-4.0.2-py3-none-any.whl (5.8 kB)\n",
      "Requirement already satisfied: attrs>=17.3.0 in c:\\users\\ben\\anaconda3\\lib\\site-packages (from aiohttp->datasets>=1.6.0->happytransformer) (20.3.0)\n",
      "Collecting aiosignal>=1.1.2\n",
      "  Downloading aiosignal-1.2.0-py3-none-any.whl (8.2 kB)\n",
      "Collecting multidict<7.0,>=4.5\n",
      "  Downloading multidict-6.0.2-cp38-cp38-win_amd64.whl (28 kB)\n",
      "Building wheels for collected packages: sacremoses\n",
      "  Building wheel for sacremoses (setup.py): started\n",
      "  Building wheel for sacremoses (setup.py): finished with status 'done'\n",
      "  Created wheel for sacremoses: filename=sacremoses-0.0.53-py3-none-any.whl size=895257 sha256=e49d6ce0967b119fb37ee3396371c25744b198ef89670ed3b68fb6a38893580f\n",
      "  Stored in directory: c:\\users\\ben\\appdata\\local\\pip\\cache\\wheels\\82\\ab\\9b\\c15899bf659ba74f623ac776e861cf2eb8608c1825ddec66a4\n",
      "Successfully built sacremoses\n",
      "Installing collected packages: huggingface-hub, sacremoses, tokenizers, transformers, protobuf, responses, xxhash, charset-normalizer, multidict, yarl, frozenlist, async-timeout, aiosignal, aiohttp, dill, multiprocess, fsspec, pyarrow, datasets, sentencepiece, torch, happytransformer\n",
      "  Attempting uninstall: fsspec\n",
      "    Found existing installation: fsspec 0.8.3\n",
      "    Uninstalling fsspec-0.8.3:\n",
      "      Successfully uninstalled fsspec-0.8.3\n",
      "Successfully installed aiohttp-3.8.1 aiosignal-1.2.0 async-timeout-4.0.2 charset-normalizer-2.0.12 datasets-2.1.0 dill-0.3.4 frozenlist-1.3.0 fsspec-2022.3.0 happytransformer-2.4.1 huggingface-hub-0.5.1 multidict-6.0.2 multiprocess-0.70.12.2 protobuf-3.20.1 pyarrow-8.0.0 responses-0.18.0 sacremoses-0.0.53 sentencepiece-0.1.96 tokenizers-0.12.1 torch-1.11.0 transformers-4.18.0 xxhash-3.0.0 yarl-1.7.2\n",
      "Note: you may need to restart the kernel to use updated packages.\n"
     ]
    },
    {
     "name": "stderr",
     "output_type": "stream",
     "text": [
      "ERROR: After October 2020 you may experience errors when installing or updating packages. This is because pip will change the way that it resolves dependency conflicts.\n",
      "\n",
      "We recommend you use --use-feature=2020-resolver to test your packages with the new resolver before it becomes the default.\n",
      "\n",
      "huggingface-hub 0.5.1 requires packaging>=20.9, but you'll have packaging 20.4 which is incompatible.\n",
      "datasets 2.1.0 requires tqdm>=4.62.1, but you'll have tqdm 4.50.2 which is incompatible.\n"
     ]
    }
   ],
   "source": [
    "pip install happytransformer"
   ]
  },
  {
   "cell_type": "code",
   "execution_count": 4,
   "metadata": {},
   "outputs": [
    {
     "data": {
      "application/vnd.jupyter.widget-view+json": {
       "model_id": "af862a6151b74e8db482c8011c737639",
       "version_major": 2,
       "version_minor": 0
      },
      "text/plain": [
       "HBox(children=(HTML(value='Downloading'), FloatProgress(value=0.0, max=1347.0), HTML(value='')))"
      ]
     },
     "metadata": {},
     "output_type": "display_data"
    },
    {
     "name": "stdout",
     "output_type": "stream",
     "text": [
      "\n"
     ]
    },
    {
     "data": {
      "application/vnd.jupyter.widget-view+json": {
       "model_id": "9b1fe24c7c354419aebb1edac5ddb49c",
       "version_major": 2,
       "version_minor": 0
      },
      "text/plain": [
       "HBox(children=(HTML(value='Downloading'), FloatProgress(value=0.0, max=5312753599.0), HTML(value='')))"
      ]
     },
     "metadata": {},
     "output_type": "display_data"
    },
    {
     "name": "stdout",
     "output_type": "stream",
     "text": [
      "\n"
     ]
    },
    {
     "data": {
      "application/vnd.jupyter.widget-view+json": {
       "model_id": "bd86ca15d6a44fd8a7dd439019ca576c",
       "version_major": 2,
       "version_minor": 0
      },
      "text/plain": [
       "HBox(children=(HTML(value='Downloading'), FloatProgress(value=0.0, max=200.0), HTML(value='')))"
      ]
     },
     "metadata": {},
     "output_type": "display_data"
    },
    {
     "name": "stdout",
     "output_type": "stream",
     "text": [
      "\n"
     ]
    },
    {
     "data": {
      "application/vnd.jupyter.widget-view+json": {
       "model_id": "ecd3c21c05d444a0a56985ae24f6afff",
       "version_major": 2,
       "version_minor": 0
      },
      "text/plain": [
       "HBox(children=(HTML(value='Downloading'), FloatProgress(value=0.0, max=798156.0), HTML(value='')))"
      ]
     },
     "metadata": {},
     "output_type": "display_data"
    },
    {
     "name": "stdout",
     "output_type": "stream",
     "text": [
      "\n"
     ]
    },
    {
     "data": {
      "application/vnd.jupyter.widget-view+json": {
       "model_id": "6cd6df946bc244b3a8b6e466b11d582b",
       "version_major": 2,
       "version_minor": 0
      },
      "text/plain": [
       "HBox(children=(HTML(value='Downloading'), FloatProgress(value=0.0, max=456356.0), HTML(value='')))"
      ]
     },
     "metadata": {},
     "output_type": "display_data"
    },
    {
     "name": "stdout",
     "output_type": "stream",
     "text": [
      "\n"
     ]
    },
    {
     "data": {
      "application/vnd.jupyter.widget-view+json": {
       "model_id": "252eb5805c774c5d93b90954424efdf7",
       "version_major": 2,
       "version_minor": 0
      },
      "text/plain": [
       "HBox(children=(HTML(value='Downloading'), FloatProgress(value=0.0, max=90.0), HTML(value='')))"
      ]
     },
     "metadata": {},
     "output_type": "display_data"
    },
    {
     "name": "stdout",
     "output_type": "stream",
     "text": [
      "\n"
     ]
    },
    {
     "name": "stderr",
     "output_type": "stream",
     "text": [
      "05/09/2022 18:03:06 - INFO - happytransformer.happy_transformer -   Using model: cpu\n",
      "Setting `pad_token_id` to `eos_token_id`:50256 for open-end generation.\n"
     ]
    },
    {
     "name": "stdout",
     "output_type": "stream",
     "text": [
      "GenerationResult(text=\"\\nbe the next big thing in the world of\\nbusiness.\\nAnd it's going to be a big deal.\\nAnd it's going to be a big deal.\\nAnd it's going to be a big deal.\\nAnd it's\")\n",
      "\n",
      "be the next big thing in the world of\n",
      "business.\n",
      "And it's going to be a big deal.\n",
      "And it's going to be a big deal.\n",
      "And it's going to be a big deal.\n",
      "And it's\n"
     ]
    }
   ],
   "source": [
    "from happytransformer import HappyGeneration\n",
    "\n",
    "happy_gen = HappyGeneration(\"GPT-NEO\", \"EleutherAI/gpt-neo-1.3B\")\n",
    "result = happy_gen.generate_text(\"Artificial intelligence will \")\n",
    "print(result)\n",
    "print(result.text)"
   ]
  },
  {
   "cell_type": "code",
   "execution_count": 7,
   "metadata": {},
   "outputs": [
    {
     "name": "stderr",
     "output_type": "stream",
     "text": [
      "Setting `pad_token_id` to `eos_token_id`:50256 for open-end generation.\n"
     ]
    },
    {
     "name": "stdout",
     "output_type": "stream",
     "text": [
      "\n",
      "be the next big thing in the world of\n",
      "business.\n",
      "And it's going to be a big deal.\n",
      "And it's going to be a big deal.\n",
      "And it's going to be a big deal.\n",
      "And it's\n"
     ]
    }
   ],
   "source": [
    "from happytransformer import GENSettings\n",
    "\n",
    "args = GENSettings(no_repeat_ngram_size=2)\n",
    "result = happy_gen.generate_text(\"Artificial intelligence will \")\n",
    "print(result.text)"
   ]
  }
 ],
 "metadata": {
  "kernelspec": {
   "display_name": "Python 3",
   "language": "python",
   "name": "python3"
  },
  "language_info": {
   "codemirror_mode": {
    "name": "ipython",
    "version": 3
   },
   "file_extension": ".py",
   "mimetype": "text/x-python",
   "name": "python",
   "nbconvert_exporter": "python",
   "pygments_lexer": "ipython3",
   "version": "3.8.5"
  }
 },
 "nbformat": 4,
 "nbformat_minor": 4
}
